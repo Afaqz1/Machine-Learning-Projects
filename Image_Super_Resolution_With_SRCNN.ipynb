{
  "nbformat": 4,
  "nbformat_minor": 0,
  "metadata": {
    "colab": {
      "provenance": []
    },
    "kernelspec": {
      "name": "python3",
      "display_name": "Python 3"
    },
    "language_info": {
      "name": "python"
    },
    "accelerator": "TPU"
  },
  "cells": [
    {
      "cell_type": "code",
      "execution_count": null,
      "metadata": {
        "colab": {
          "base_uri": "https://localhost:8080/"
        },
        "id": "mxD_N-qsF8q-",
        "outputId": "c58ae3ec-0058-4f7e-9245-a24eeb8aedf7"
      },
      "outputs": [
        {
          "output_type": "stream",
          "name": "stdout",
          "text": [
            "Python: 3.10.12 (main, Nov 20 2023, 15:14:05) [GCC 11.4.0]\n",
            "keras: 2.12.0\n",
            "OpenCV: 4.8.0\n",
            "Numpy: 1.23.5\n",
            "Matplotlib: 3.7.1\n",
            "Scikit-Image: 0.19.3\n"
          ]
        }
      ],
      "source": [
        "# import the required packages\n",
        "import sys\n",
        "import keras\n",
        "import cv2\n",
        "import numpy\n",
        "import matplotlib\n",
        "import skimage\n",
        "\n",
        "print('Python: {}'.format(sys.version))\n",
        "print ('keras: {}'.format(keras.__version__))\n",
        "print ('OpenCV: {}'.format(cv2.__version__))\n",
        "print ('Numpy: {}'.format(numpy.__version__))\n",
        "print ('Matplotlib: {}'.format(matplotlib.__version__))\n",
        "print ('Scikit-Image: {}'.format(skimage.__version__))\n"
      ]
    },
    {
      "cell_type": "code",
      "source": [
        "# import the necessary packages\n",
        "from keras.models import Sequential\n",
        "from keras.layers import Conv2D\n",
        "from keras.optimizers import Adam\n",
        "from skimage import measure\n",
        "from matplotlib import pyplot as plt\n",
        "import cv2\n",
        "import numpy as np\n",
        "import math\n",
        "import os\n",
        "\n",
        "# python magic function, displays pyplot figures in the notebook\n",
        "%matplotlib inline"
      ],
      "metadata": {
        "id": "URh_VA60Gr9D"
      },
      "execution_count": null,
      "outputs": []
    },
    {
      "cell_type": "markdown",
      "source": [
        "## 2. Image Quality Metrics"
      ],
      "metadata": {
        "id": "XlSGWQdrPcRC"
      }
    },
    {
      "cell_type": "code",
      "source": [
        "# define a function for peak signal-to-noise ratio (PSNR)\n",
        "def psnr(target, ref):\n",
        "\n",
        "    # assume RGB image\n",
        "    target_data = target.astype(float)\n",
        "    ref_data = ref.astype(float)\n",
        "\n",
        "    diff = ref_data - target_data\n",
        "    diff = diff.flatten('C')\n",
        "\n",
        "    rmse = math.sqrt(np.mean(diff ** 2.))\n",
        "\n",
        "    return 20 * math.log10(255. / rmse)\n",
        "\n",
        "# define function for mean squared error (MSE)\n",
        "def mse(target, ref):\n",
        "    # the MSE between the two images is the sum of the squared difference between the two images\n",
        "    err = np.sum((target.astype('float') - ref.astype('float')) ** 2)\n",
        "    err /= float(target.shape[0] * target.shape[1])\n",
        "\n",
        "    return err\n",
        "\n",
        "# define function that combines all three image quality metrics\n",
        "def compare_images(target, ref):\n",
        "    scores = []\n",
        "    scores.append(psnr(target, ref))\n",
        "    scores.append(mse(target, ref))\n",
        "    scores.append(ssim(target, ref, multichannel =True))\n",
        "\n",
        "    return scores\n"
      ],
      "metadata": {
        "id": "HuODEO5xHYlT"
      },
      "execution_count": null,
      "outputs": []
    },
    {
      "cell_type": "markdown",
      "source": [
        "## 3. Preparing Images"
      ],
      "metadata": {
        "id": "nJZsAOpKQfU_"
      }
    },
    {
      "cell_type": "code",
      "source": [
        "# prepare degraded images by introducing quality distortions via resizing\n",
        "\n",
        "def prepare_images(path, factor):\n",
        "  #loop through files in the directory\n",
        "  for file in os.listdir(path):\n",
        "\n",
        "    #open the file\n",
        "    img = cv2.imread(path+'/'+file)\n",
        "\n",
        "    #find old and new image dimensions\n",
        "    h,w,_ = img.shape\n",
        "    new_height = h/factor\n",
        "    new_width = w/factor\n",
        "\n",
        "    # resize the image- down\n",
        "    img = cv2.resize(img, (new_width, new_height), interpolation = cv2.INTER_LINEAR)\n",
        "\n",
        "    # resize the image-up\n",
        "    img = cv2.resize(img, (w,h), interpolation = cv2.INTER_LINEAR)\n",
        "    #save the image\n",
        "    print('Saving {}'.format(file))\n",
        "    cv2.imwrite('images/{}'.format(file))"
      ],
      "metadata": {
        "colab": {
          "base_uri": "https://localhost:8080/",
          "height": 264
        },
        "id": "_FdEWBq2QXKA",
        "outputId": "ebc99053-5956-4d99-a6c4-a835c68e2a6a"
      },
      "execution_count": null,
      "outputs": [
        {
          "output_type": "error",
          "ename": "SyntaxError",
          "evalue": "incomplete input (<ipython-input-10-f8f1b6dc1562>, line 3)",
          "traceback": [
            "\u001b[0;31m---------------------------------------------------------------------------\u001b[0m",
            "\u001b[0;31mSyntaxError\u001b[0m                               Traceback (most recent call last)",
            "\u001b[0;32m/usr/local/lib/python3.10/dist-packages/IPython/core/compilerop.py\u001b[0m in \u001b[0;36mast_parse\u001b[0;34m(self, source, filename, symbol)\u001b[0m\n\u001b[1;32m     99\u001b[0m         \u001b[0mArguments\u001b[0m \u001b[0mare\u001b[0m \u001b[0mexactly\u001b[0m \u001b[0mthe\u001b[0m \u001b[0msame\u001b[0m \u001b[0;32mas\u001b[0m \u001b[0mast\u001b[0m\u001b[0;34m.\u001b[0m\u001b[0mparse\u001b[0m \u001b[0;34m(\u001b[0m\u001b[0;32min\u001b[0m \u001b[0mthe\u001b[0m \u001b[0mstandard\u001b[0m \u001b[0mlibrary\u001b[0m\u001b[0;34m)\u001b[0m\u001b[0;34m,\u001b[0m\u001b[0;34m\u001b[0m\u001b[0;34m\u001b[0m\u001b[0m\n\u001b[1;32m    100\u001b[0m         and are passed to the built-in compile function.\"\"\"\n\u001b[0;32m--> 101\u001b[0;31m         \u001b[0;32mreturn\u001b[0m \u001b[0mcompile\u001b[0m\u001b[0;34m(\u001b[0m\u001b[0msource\u001b[0m\u001b[0;34m,\u001b[0m \u001b[0mfilename\u001b[0m\u001b[0;34m,\u001b[0m \u001b[0msymbol\u001b[0m\u001b[0;34m,\u001b[0m \u001b[0mself\u001b[0m\u001b[0;34m.\u001b[0m\u001b[0mflags\u001b[0m \u001b[0;34m|\u001b[0m \u001b[0mPyCF_ONLY_AST\u001b[0m\u001b[0;34m,\u001b[0m \u001b[0;36m1\u001b[0m\u001b[0;34m)\u001b[0m\u001b[0;34m\u001b[0m\u001b[0;34m\u001b[0m\u001b[0m\n\u001b[0m\u001b[1;32m    102\u001b[0m \u001b[0;34m\u001b[0m\u001b[0m\n\u001b[1;32m    103\u001b[0m     \u001b[0;32mdef\u001b[0m \u001b[0mreset_compiler_flags\u001b[0m\u001b[0;34m(\u001b[0m\u001b[0mself\u001b[0m\u001b[0;34m)\u001b[0m\u001b[0;34m:\u001b[0m\u001b[0;34m\u001b[0m\u001b[0;34m\u001b[0m\u001b[0m\n",
            "\u001b[0;31mSyntaxError\u001b[0m: incomplete input (<ipython-input-10-f8f1b6dc1562>, line 3)"
          ]
        }
      ]
    },
    {
      "cell_type": "code",
      "source": [
        "prepare_images('source/',2)"
      ],
      "metadata": {
        "id": "mYTXz_dpQq4H"
      },
      "execution_count": null,
      "outputs": []
    },
    {
      "cell_type": "code",
      "source": [
        "# test the generated images using the image quality metrics\n",
        "for file in os.listdir('images'):\n",
        "\n",
        "  #open target and reference images\n",
        "  target = cv2.imread('images/{}'.format(file))\n",
        "  ref =  cv2.imread('source/{}'.format(file))\n",
        "\n",
        "  # calculate score\n",
        "  scores = compare_images(target, ref)\n",
        "  # print all three scores with new line characters (\\n)\n",
        "  prrint('{}\\nPSNR: {}\\nMSE: {}\\nSSIM: {}\\n'.format(file, scores[0], scores[1], scores[2]))"
      ],
      "metadata": {
        "id": "zSPGrtO8R34S"
      },
      "execution_count": null,
      "outputs": []
    },
    {
      "cell_type": "markdown",
      "source": [
        "## Building the SRCNN Model"
      ],
      "metadata": {
        "id": "IVssHadVSzdp"
      }
    },
    {
      "cell_type": "code",
      "source": [
        "# define the SRCNN model\n",
        "def model():\n",
        "\n",
        "  #define the model type\n",
        "  SRCNN =  Sequential()\n",
        "\n",
        "  # add model layers\n",
        "  SRCNN.add(Conv2D(filters =128, kernel_size=(9,9), kernel_initializer='glorot_uniform',\n",
        "                   activation = 'relu', padding = 'valid', use_bias = True, input_shape= (None, None,1)))\n",
        "  SRCNN.add(Conv2D(filters =64, kernel_size=(3,3), kernel_initializer='glorot_uniform',\n",
        "                   activation = 'relu', padding = 'same', use_bias = True))\n",
        "  SRCNN.add(Conv2D(filters =1, kernel_size=(5,5), kernel_initializer='glorot_uniform',\n",
        "                   activation = 'linear', padding = 'valid', use_bias = True))\n",
        "\n",
        "  adam = Adam(lr = 0.0003)\n",
        "\n",
        "  #compile the model\n",
        "  SRCNN.compile(optimizer = adam, loss = 'mean_squared_error', metrics = ['mean_squared_error'])\n",
        "\n",
        "  return SRCNN\n",
        "\n"
      ],
      "metadata": {
        "id": "D_po2qogSyZf"
      },
      "execution_count": null,
      "outputs": []
    },
    {
      "cell_type": "markdown",
      "source": [
        "## 5. Deploying the SRCNN"
      ],
      "metadata": {
        "id": "Ua1BM82ZUdxQ"
      }
    },
    {
      "cell_type": "code",
      "source": [
        " # define necessary image processing functions\n",
        "\n",
        " def modcrop(img, scale):\n",
        "  tmpsz = img.shape\n",
        "  sz = tmpsz[0:2]\n",
        "  sz = sz-np.mode(sz,scale)\n",
        "  img = img[0:sz[0],1:sz[1]]\n",
        "  return img\n",
        "\n",
        "def shave(image, border):\n",
        "  img =  image[border:-border, border:-border]\n",
        "  return img"
      ],
      "metadata": {
        "id": "6c1bdzJ8ULm_"
      },
      "execution_count": null,
      "outputs": []
    },
    {
      "cell_type": "code",
      "source": [
        "# define the main prediction function\n",
        "\n",
        "def predict(image_path):\n",
        "\n",
        "  # load the srcnn mmodel with weights\n",
        "\n",
        "  srcnn = model()\n",
        "  scrnn.load_weights('3051crop_weight_200.h5')\n",
        "\n",
        "  # load the degraded and reference images\n",
        "  path, file = os.path.split(image_path)\n",
        "  degraded = cv2.imread(image_path)\n",
        "  ref  = cv2.imread('source/{}'.format(file))\n",
        "\n",
        "  # preprocess the image with modcrop\n",
        "  ref = modcrop(ref, 3)\n",
        "  degraded =  modcrop(degraded,3)\n",
        "\n",
        "  # convert the image to YCrCb - (scrn trained on Y channel)\n",
        "  temp = cv2.cvtColor(degraded, cv2.COLOR_BGR2YCrCb)\n",
        "\n",
        "  # create image slice and normalize\n",
        "  Y= numpy.zeros((1, temp.shape[0], temp.shape[1],1), dtype = float)\n",
        "  Y[0,:,:,0] = temp[:,:,0].astype[float]/255\n",
        "\n",
        "  # perform super-resolution with srcnn\n",
        "  pre = srcnn.predict(Y, batch_size = 1)\n",
        "\n",
        "  # post-process output\n",
        "  pre*=255\n",
        "  pre[pre[:]>255] = 255\n",
        "  pre[pre[:]<0] = 0\n",
        "  pre = pre.astype(np.uint8)\n",
        "\n",
        "  #copy Y channel back to image and convert to BGR\n",
        "  temp = shave(temp,6)\n",
        "  temp[:,:,0] = pre[0,:,:,0]\n",
        "  output = cv2.cvtColor(temp, cv2.COLOR_YCrCb2BGR)\n",
        "\n",
        "  #remove border from reference and degraded image\n",
        "  ref = shave(ref.astype(np.uint8), 6)\n",
        "  degraded =  shave(degraded.astype(np.uint8),6)\n",
        "\n",
        "  #image quality calculations\n",
        "  scores = []\n",
        "  scores.append(compare_images(degraded, ref))\n",
        "  scores.append(compare_images(output, ref))\n",
        "\n",
        "  # return images and scores\n",
        "  return ref, degraded, output, scores"
      ],
      "metadata": {
        "id": "BPaVTQciVT17"
      },
      "execution_count": null,
      "outputs": []
    },
    {
      "cell_type": "code",
      "source": [
        "ref, degraded, output, scores = predict('images/flowers.bmp')\n",
        "\n",
        "# print all scores for all images\n",
        "print('Degraded Image: \\nPSNR: {}\\nMSE: {}\\nSSIM: {}\\n'.format(scores[0][0], scores[0][1], scores[0][2]))\n",
        "print('Reconstructed Image: \\nPSNR: {}\\nMSE: {}\\nSSIM: {}\\n'.format(scores[1][0], scores[1][1], scores[1][2]))\n",
        "\n",
        "#display images as subplots\n",
        "fig, axs = plt.subplots(1,3, figsize = (20,8))\n",
        "axs[0].imshow(cv2.cvtColor(ref, cv2.COLOR_BGR2RGB))\n",
        "axs[0].set_title('Original')\n",
        "axs[1].imshow(cv2.cvtColor(ref, cv2.COLOR_BGR2RGB))\n",
        "axs[1].set_title('Degraded')\n",
        "axs[2].imshow(cv2.cvtColor(ref, cv2.COLOR_BGR2RGB))\n",
        "axs[2].set_title('SRCNN')\n",
        "\n",
        "# remove the x and y ticks\n",
        "for ax in axs:\n",
        "  ax.set_xticks([])\n",
        "  ax.set_yticks([])\n"
      ],
      "metadata": {
        "id": "rZfwawisg5Ip"
      },
      "execution_count": null,
      "outputs": []
    },
    {
      "cell_type": "code",
      "source": [
        "for file in os.listdir('images'):\n",
        "\n",
        "  # perform super-resolution\n",
        "  ref, degraded, output, scores = predict('images/{}'.format(file))\n",
        "\n",
        "  #display images as subplots\n",
        "  fig, axs = plt.subplots(1,3,figsize=(20,8))\n",
        "  axs[0].imshow(cv2.cvtColor(ref, cv2.COLOR_BGR2RGB))\n",
        "  axs[0].set_title('Original')\n",
        "  axs[1].imshow(cv2.cvtColor(ref, cv2.COLOR_BGR2RGB))\n",
        "  axs[1].set_title('Degraded')\n",
        "  axs[1].set(xlabel = 'PSNR: {}\\nMSE: {}\\nSSIM: {}'.format(scores[0][0],scores[0][1], scores[0][2]))\n",
        "  axs[2].imshow(cv2.cvtColor(ref, cv2.COLOR_BGR2RGB))\n",
        "  axs[2].set_title('SRCNN')\n",
        "  axs[1].set(xlabel = 'PSNR: {}\\nMSE: {}\\nSSIM: {}'.format(scores[1][0],scores[1][1], scores[1][2]))\n",
        "\n",
        "  # remove the x and y ticks\n",
        "  for ax in axs:\n",
        "    ax.set_xticks([])\n",
        "    ax.set_yticks([])\n",
        "\n",
        "  print('Saving {}'.format(file))\n",
        "  fig.savefig('output/{}.png'.format(os.path.splitext(file)[0]))\n",
        "  plt.close()\n",
        "\n"
      ],
      "metadata": {
        "id": "7LkPkgJLIySf"
      },
      "execution_count": null,
      "outputs": []
    }
  ]
}